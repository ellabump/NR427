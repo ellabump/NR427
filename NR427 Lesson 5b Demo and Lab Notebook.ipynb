{
 "cells": [
  {
   "cell_type": "markdown",
   "metadata": {},
   "source": [
    "# NR427 Lesson 5b - Demo and Lab Notebook\n",
    "\n",
    "We will use this notebook to walk through the basics of Geopandas during the demo, then you will complete the required tasks in the cells at the bottom.\n",
    "\n",
    "Refer to the demo, the slides, the links in the slides, and the geopandas documentation if you need help figuring it out.\n",
    "\n",
    "Data: Use the RMNP data from Lesson 4\n",
    "\n",
    "### Make use of the documentation, all the online references, the MGAP book, and materials from class\n",
    "\n",
    "https://goo.gl/1N1pce\n",
    "\n",
    "https://automating-gis-processes.github.io/site/index.html\n",
    "\n",
    "http://geopandas.org/index.html\n",
    "\n",
    "https://www.earthdatascience.org/courses/earth-analytics-python/"
   ]
  },
  {
   "cell_type": "markdown",
   "metadata": {},
   "source": [
    "## Demo:\n",
    "1. Import libraries\n",
    "\n",
    "2. Point to the data\n",
    "\n",
    "3. Create a dataframe for the data\n",
    "\n",
    "4. Perform some basic operations: view the table, filter by a column, make a selection, buffer"
   ]
  },
  {
   "cell_type": "code",
   "execution_count": null,
   "metadata": {},
   "outputs": [],
   "source": [
    "# Import geopandas library, give it the nickname of gpd\n",
    "import geopandas as gpd"
   ]
  },
  {
   "cell_type": "code",
   "execution_count": null,
   "metadata": {},
   "outputs": [],
   "source": [
    "# Point to the data. Update this with your own path to the RMNP_Lakes.shp\n",
    "lakesPath = r\"....shp\""
   ]
  },
  {
   "cell_type": "code",
   "execution_count": null,
   "metadata": {},
   "outputs": [],
   "source": [
    "# Create a geopandas dataframe for the shapefile defined above\n",
    "# Use gpd.read_file() and call it lakesDF\n"
   ]
  },
  {
   "cell_type": "markdown",
   "metadata": {},
   "source": [
    "### Let's explore this new type of object, the dataframe:"
   ]
  },
  {
   "cell_type": "code",
   "execution_count": null,
   "metadata": {},
   "outputs": [],
   "source": [
    "print (type(lakesPath))\n",
    "print (type(lakesDF))"
   ]
  },
  {
   "cell_type": "code",
   "execution_count": null,
   "metadata": {},
   "outputs": [],
   "source": [
    "# Return the attribute table for the shapefile, or just the start or end with .head(). or .tail()\n",
    "# What happens if you put a number in the () for head or tail?\n"
   ]
  },
  {
   "cell_type": "code",
   "execution_count": null,
   "metadata": {
    "scrolled": true
   },
   "outputs": [],
   "source": [
    "# Report the coordinate reference system, crs with .crs. It returns the EPSG code.\n"
   ]
  },
  {
   "cell_type": "code",
   "execution_count": null,
   "metadata": {},
   "outputs": [],
   "source": [
    "# What happens when we point to the geometry column?\n"
   ]
  },
  {
   "cell_type": "code",
   "execution_count": null,
   "metadata": {},
   "outputs": [],
   "source": [
    " # Can we visualize this dataset?  YES!  Import matplotlib and use .plot()\n"
   ]
  },
  {
   "cell_type": "markdown",
   "metadata": {},
   "source": [
    "### Working with columns:\n",
    "Filter by column by using the column name in [] for one column\n",
    "\n",
    "Create a list of column names for two or more"
   ]
  },
  {
   "cell_type": "code",
   "execution_count": null,
   "metadata": {},
   "outputs": [],
   "source": [
    "# Just one column:  (Choose ACRES)\n",
    "print (lakesDF[\"ACRES\"].head())\n",
    "\n",
    "# Two or more columns  (Choose DESCRIPTIO and ACRES)\n",
    "selfields = [\"DESCRIPTIO\", \"ACRES\"]\n",
    "lakesfilter = lakesDF[selfields]\n",
    "\n",
    "#Return the table showing just these 2 columns:\n"
   ]
  },
  {
   "cell_type": "code",
   "execution_count": null,
   "metadata": {},
   "outputs": [],
   "source": [
    "# Get some descriptive statistics for a column with df.fieldname.describe()\n"
   ]
  },
  {
   "cell_type": "markdown",
   "metadata": {},
   "source": [
    "Making a selection using simple SQL"
   ]
  },
  {
   "cell_type": "code",
   "execution_count": null,
   "metadata": {},
   "outputs": [],
   "source": [
    "# Select a lake of your choice as a new dataframe by using NAME == ...lakename...\n",
    "# Sample lake names: BEAR LAKE, MIRROR LAKE, GEM LAKE, or just look at the table above that you printed out\n",
    "BearLake = lakesDF[lakesDF.NAME == \"BEAR LAKE\"]\n",
    "BearLake.plot()\n",
    "\n",
    "# Go back and change the lake you query for, watch the plot change\n",
    "# A good one is the DESCRIPTIO field - find values that are \"real\" lakes and ponds\n",
    "\n",
    "# Fun fact: Why is the field named DESCRIPTIO ?"
   ]
  },
  {
   "cell_type": "markdown",
   "metadata": {},
   "source": [
    "Retrieving unique values:"
   ]
  },
  {
   "cell_type": "code",
   "execution_count": null,
   "metadata": {},
   "outputs": [],
   "source": [
    "# Retrieving unique values from a field: use df.fieldname.unique()\n",
    "\n",
    "# Retrieve  and print uniques lake names (Use NAME field):\n",
    "\n",
    "# How many different unique values are there in the field?\n",
    "print (\"There are \",len(veg_unique),\"unique values in the Vegetation field\")"
   ]
  },
  {
   "cell_type": "code",
   "execution_count": null,
   "metadata": {},
   "outputs": [],
   "source": [
    "for x in veg_unique:\n",
    "    print(x)"
   ]
  },
  {
   "cell_type": "markdown",
   "metadata": {},
   "source": [
    "# Saving your results\n",
    "\n",
    "Use df.to_file(...path....shp)  or  df.to_file(...json)"
   ]
  },
  {
   "cell_type": "code",
   "execution_count": 1,
   "metadata": {},
   "outputs": [],
   "source": [
    "# Save the results of the selection above to its own shapefile. \n",
    "# Check your file explorer or use os.path.exists() to check that it worked!\n"
   ]
  },
  {
   "cell_type": "markdown",
   "metadata": {},
   "source": [
    "# Simple Spatial Operations\n",
    "Let's buffer our selected lake:"
   ]
  },
  {
   "cell_type": "code",
   "execution_count": null,
   "metadata": {},
   "outputs": [],
   "source": [
    "# Use .buffer() and supply the buffer distance in native map units. Return as a new df\n",
    "\n",
    "\n",
    "\n",
    "# Draw the new polygon with .plot()\n",
    "\n"
   ]
  },
  {
   "cell_type": "code",
   "execution_count": null,
   "metadata": {},
   "outputs": [],
   "source": [
    "# Return the coordinates of this new lake buffer with .geometry\n",
    "____.geometry"
   ]
  },
  {
   "cell_type": "markdown",
   "metadata": {},
   "source": [
    "\n",
    "## LAB 5b, PART 1 -    Use your skills to:\n",
    "Lab 5b = 25 points total. Part 1 (immediately below) = 10 points  ;  Part 2 ( way below) = 15 points\n",
    "\n",
    "1. Create a second dataframe for the trails to perform some overlays and return/display the table\n",
    "\n",
    "2. Test out and plot a few additional tasks: df.centroid, df.envelope, df.convex_hull and understand what they're showing\n",
    "\n",
    "3. Get the unique values for the Trails layer UNIT field and print them out"
   ]
  },
  {
   "cell_type": "code",
   "execution_count": null,
   "metadata": {},
   "outputs": [],
   "source": [
    "# 1. Create a second dataframe for the trails (call it trailDF), display the table\n"
   ]
  },
  {
   "cell_type": "code",
   "execution_count": null,
   "metadata": {},
   "outputs": [],
   "source": [
    "# 2. Test out and plot df.centroid, df.envelope, df.convex_hull and more  .... and plot the results\n"
   ]
  },
  {
   "cell_type": "code",
   "execution_count": null,
   "metadata": {},
   "outputs": [],
   "source": [
    "# 3. Return the unique values for the Trails layer UNIT field, print them out nicely\n"
   ]
  },
  {
   "cell_type": "markdown",
   "metadata": {},
   "source": [
    "## Back together as a class...\n",
    "\n",
    "Let's figure out: which trails are within 1000 meters of a lake?  ....Or which lakes are within 1000 meters of a trail?"
   ]
  },
  {
   "cell_type": "code",
   "execution_count": null,
   "metadata": {},
   "outputs": [],
   "source": [
    "# Check the crs\n",
    "print (\"Trail crs = \", trailDF.crs)\n",
    "print (\"Lake crs = \", lakesDF.crs)\n"
   ]
  },
  {
   "cell_type": "code",
   "execution_count": null,
   "metadata": {},
   "outputs": [],
   "source": [
    "#Buffer the trails, call it trailBuf\n",
    "\n",
    "\n",
    "# This is a simple buffer. What type of oject does it return?\n",
    "\n",
    "\n",
    "# Draw the buffers\n"
   ]
  },
  {
   "cell_type": "code",
   "execution_count": null,
   "metadata": {},
   "outputs": [],
   "source": [
    "#Buffer but maintain as geodataframe\n",
    "\n",
    "trailBufDF = gpd.GeoDataFrame(trailDF)\n",
    "trailBufDF['geometry'] = trailDF.geometry.buffer(500)\n",
    "type(trailBufDF)\n"
   ]
  },
  {
   "cell_type": "code",
   "execution_count": null,
   "metadata": {},
   "outputs": [],
   "source": [
    "# Buffer the lakes by 1000 meters, call it lakesBuf\n",
    "# Plot the lake in blue with color = \"Blue\" and make it bigger with figsize = (num,num)\n"
   ]
  },
  {
   "cell_type": "code",
   "execution_count": null,
   "metadata": {},
   "outputs": [],
   "source": [
    "# Which trails are within 1000 meters of a lake?\n",
    "\n",
    "trailDF[trailDF.geometry.intersects(lakesBuf)]"
   ]
  },
  {
   "cell_type": "code",
   "execution_count": null,
   "metadata": {},
   "outputs": [],
   "source": [
    "# Which lakes are within 1000 meters of a trail?\n",
    "\n",
    "laketrl = lakesDF[lakesDF.geometry.intersects(trailBuf)]\n",
    "laketrl.plot()"
   ]
  },
  {
   "cell_type": "markdown",
   "metadata": {},
   "source": [
    "Overlay the trails and lakes buffers: intersection, union, difference, symmetrical difference:\n",
    "\n",
    "Two ways to overlay, Refer to online resources and docs: \n",
    "1. df.intersects, df.union, df.difference\n",
    "2. gpd.overlay(layer1, layer2, how) How = intersection, union, etc...\n",
    "    This only works on geodataframes, though.\n",
    "\n",
    "Combine polys into 1 with unary union - makes multi polygons or multi lines\n",
    "    Try df.unary_union.envelope or .convex_hull to get the full extent or complete convex hull of the layer"
   ]
  },
  {
   "cell_type": "code",
   "execution_count": null,
   "metadata": {},
   "outputs": [],
   "source": [
    "# 1. Overlay the layers with df.union etc...\n",
    "\n",
    "\n",
    "# Getting help in a notebook:  Use a ? at the end\n",
    "gpd.overlay?\n",
    "\n",
    "#Example with .overlay:\n",
    "#trailsnearlakes = gpd.overlay(trailbuf, lakes1000df, 'intersection')\n",
    "\n",
    "\n",
    "# Combine polys into 1 with unary union - makes multi polygons or multi lines\n",
    "lakes_1 = lakesDF.unary_union\n",
    "\n",
    "\n",
    "#Return the table and plot the visual:\n",
    "print(type(trails_lakes))\n",
    "\n",
    "trails_lakes.plot(figsize=(30,15))"
   ]
  },
  {
   "cell_type": "code",
   "execution_count": null,
   "metadata": {},
   "outputs": [],
   "source": [
    "# Plot the centroids of the lakes\n",
    "lakesDF.centroid.plot(markersize=2)"
   ]
  },
  {
   "cell_type": "markdown",
   "metadata": {},
   "source": [
    "# On your own... Lab 5b tasks\n",
    "\n",
    "Submit these tasks as the rest of Lab 5b.  25 points total (Part 1, above = 10 points, Part 2 = 15 points)\n",
    "\n",
    "Label/annotate the code with comments or markdown.  Plot any outputs generated.\n",
    "\n",
    "1. Get the trails that belong to the FRONT RANGE unit (Use the UNIT field)\n",
    "\n",
    "2. Buffer those trails by 300m\n",
    "\n",
    "3. If the CRS is the same for both trails and lakes, then: Overlay the lakes to the Front Range trail buffer\n",
    "\n",
    "4. If the CRS is not the same, convert the CRS then perform the overlay\n",
    "\n"
   ]
  },
  {
   "cell_type": "code",
   "execution_count": null,
   "metadata": {},
   "outputs": [],
   "source": [
    "# 1. Get just the trails in the Front Range Unit\n",
    "\n",
    "\n",
    "# Plot the result with some properties applied: (column=\"\", cmap=\"Greens\", legend=True, figsize=(20,10))\n",
    "\n"
   ]
  },
  {
   "cell_type": "code",
   "execution_count": null,
   "metadata": {},
   "outputs": [],
   "source": [
    "# 2. Buffer the selected Front Range trails by 300m\n",
    "\n"
   ]
  },
  {
   "cell_type": "code",
   "execution_count": null,
   "metadata": {},
   "outputs": [],
   "source": [
    "# 3/4. Perform an overlay if the CRS values are the same. If they're not, fix it, then overlay.\n",
    "\n",
    "\n",
    "# Plot the results with some properties like color, figsize\n"
   ]
  },
  {
   "cell_type": "markdown",
   "metadata": {},
   "source": [
    "# Challenges\n",
    "1. Plot using a nice color scheme (ie, experiment with color schemes and see if you can make a plot worth sharing)\n",
    "\n",
    "2. Plot two layers in one plot\n",
    "\n",
    "3. Compute the Difference (like an Erase) to remove areas within a certain distance from the trail buffer (Experiment with distances)\n",
    "\n",
    "4. Determine which elk points (Use Elk843cow.shp) are within a certain buffer of lakes, or which lake buffers contain an elk point\n",
    "\n",
    "5. Other questions or combinations you're curious about? Try them out!"
   ]
  },
  {
   "cell_type": "markdown",
   "metadata": {},
   "source": [
    "# Putting two layers on one plot\n",
    "Just FYI, here are a few examples of plotting, getting two layers on one plot and and zooming to an extent"
   ]
  },
  {
   "cell_type": "code",
   "execution_count": null,
   "metadata": {},
   "outputs": [],
   "source": [
    "import matplotlib.pyplot as plt\n"
   ]
  },
  {
   "cell_type": "code",
   "execution_count": null,
   "metadata": {},
   "outputs": [],
   "source": [
    "fig, ax = plt.subplots()\n",
    "lakes1000.plot(ax=ax, facecolor=\"blue\")\n",
    "elkNov2.to_crs(lakesDF.crs).plot(ax=ax,facecolor=\"red\", markersize =10)\n",
    "plt.tight_layout()\n",
    "\n",
    "# some properties to experiment with: color, markersize, figsize, cx, facecolor, cmap, column"
   ]
  },
  {
   "cell_type": "code",
   "execution_count": null,
   "metadata": {
    "scrolled": true
   },
   "outputs": [],
   "source": [
    "# Which elk points are near lakes - intersect lakes buffer\n",
    "# laketrl = lakesDF[lakesDF.geometry.intersects(trailbuf)]\n",
    "elkutm = elk.to_crs(lakes1000.crs)\n",
    "elk_lk = elkutm[elkutm.geometry.intersects(lakes1000)]\n",
    "elk_lk.cx[445000:450000, 4466000:4469000].plot()"
   ]
  },
  {
   "cell_type": "code",
   "execution_count": null,
   "metadata": {},
   "outputs": [],
   "source": [
    "#Plot intersected elk points on top of lakes1000\n",
    "\n",
    "fig, ax = plt.subplots()\n",
    "lakes1000.cx[445000:450000, 4466000:4469000].plot(ax=ax, facecolor=\"blue\")\n",
    "elk_lk.cx[445000:450000, 4466000:4469000].plot(ax=ax,facecolor=\"red\", markersize =10)\n",
    "plt.tight_layout()"
   ]
  },
  {
   "cell_type": "code",
   "execution_count": null,
   "metadata": {},
   "outputs": [],
   "source": [
    "# Convert a geoseries into a geodataframe\n",
    "lakes1000df = gpd.GeoDataFrame(gpd.GeoSeries(lakes1000))\n",
    "trailbufdf =  gpd.GeoDataFrame(gpd.GeoSeries(trailbuf))"
   ]
  },
  {
   "cell_type": "markdown",
   "metadata": {},
   "source": [
    "# You're just getting started!\n",
    "## Keep working at it, thinking of questions, and figuring out how to answer them"
   ]
  },
  {
   "cell_type": "code",
   "execution_count": null,
   "metadata": {},
   "outputs": [],
   "source": []
  }
 ],
 "metadata": {
  "kernelspec": {
   "display_name": "Python 3",
   "language": "python",
   "name": "python3"
  },
  "language_info": {
   "codemirror_mode": {
    "name": "ipython",
    "version": 3
   },
   "file_extension": ".py",
   "mimetype": "text/x-python",
   "name": "python",
   "nbconvert_exporter": "python",
   "pygments_lexer": "ipython3",
   "version": "3.6.7"
  }
 },
 "nbformat": 4,
 "nbformat_minor": 2
}
